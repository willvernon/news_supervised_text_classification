{
 "cells": [
  {
   "cell_type": "markdown",
   "metadata": {},
   "source": [
    "# Supervised Text Classification for Wellness & Health.\n",
    "\n",
    "The Rubric is as follows:\n",
    "\n",
    "1. You building a replicable model that can be rerun via python without errors\n",
    "2. Your ability to report and interpret validation set metrics\n",
    "3. The quality and professionalism of a 5-minute video overviewing what you did\n",
    "4. How detailed you were at tuning parameters, exploring preprocessing techniques and using transformers/embeddings\n",
    "5. How predictive it is compared to your classmates\n"
   ]
  },
  {
   "cell_type": "markdown",
   "metadata": {},
   "source": [
    "## Instruction\n",
    "\n",
    "Imagine you're working at a media buying company, Chrishare. They have a new client,\n",
    "Theragun\n",
    "\n",
    "Theragun knows that consumers who value health and wellness are more likely to consider, and ultimately buy their product. So, they’d like to find health and wellness news around the web to advertise on. Their goal with their media campaign is to identify as many news articles that mention health and wellness as possible.\n",
    "\n",
    "Your challenge now is to build a deep learning algorithm that predicts the probability that a news story is about health and wellness. You’ll be using `k-train`, which is a wrapper for\n",
    "Tensorflow, Keras, and Huggingface Transformers.\n"
   ]
  },
  {
   "cell_type": "markdown",
   "metadata": {},
   "source": [
    "## Final Project Introduction\n",
    "\n",
    "In this final project, I will utilize Ktrain, a lightweight wrapper for TensorFlow Keras, to train a model. The model’s objective is to determine whether a news article pertains to Health or Wellness. By separating the dataset provided into (1) Healthy and (0) Not Healthy categories based on Headline/Category, I will enable the model to make predictions and assess its accuracy.\n",
    "\n",
    "Following training, I have established a test to evaluate the model’s performance using precision, recall, and F1-score metrics. Additionally, I have included untrained on examples to demonstrate the model’s ability to predict whether articles are related to Health.\n",
    "\n",
    "During the project, I encountered several challenges that required considerable effort to overcome. Initially, Ktrain did not function properly out of the box. To resolve this issue, I needed to install specific versions of certain libraries. Also, while attempting to build the model, I used all my Colab pro credits for TPU usage. This made me relocated my work to Kaggle to utilize their TPU resources.\n",
    "\n",
    "To access Kaggle’s TPU VM v3-8, I had to wait in a queue after each attempt. After numerous attempts and encounters with errors, I suspected that the long training time on Kaggle’s TPU was causing Kaggle to interrupt training process. Consequently, to ensure the completion of the training, I adjusted the Epochs for identifying the optimal learning rate to two Epochs and reduced the Training to one Epoch, as training would be interrupted after three total Epochs.\n",
    "\n",
    "This bottleneck presents a significant challenge in training a highly effective model. While I apologize for any imperfections in the results, I worked hard to make the most of the available resources.\n"
   ]
  },
  {
   "cell_type": "code",
   "execution_count": null,
   "metadata": {
    "_cell_guid": "b1076dfc-b9ad-4769-8c92-a6c4dae69d19",
    "_uuid": "8f2839f25d086af736a60e9eeb907d3b93b6e0e5",
    "execution": {
     "iopub.execute_input": "2025-04-18T20:41:20.398522Z",
     "iopub.status.busy": "2025-04-18T20:41:20.398312Z",
     "iopub.status.idle": "2025-04-18T20:42:52.846166Z",
     "shell.execute_reply": "2025-04-18T20:42:52.839071Z",
     "shell.execute_reply.started": "2025-04-18T20:41:20.398499Z"
    },
    "trusted": true
   },
   "outputs": [],
   "source": [
    "!pip install -U tf_keras"
   ]
  },
  {
   "cell_type": "code",
   "execution_count": null,
   "metadata": {
    "execution": {
     "iopub.execute_input": "2025-04-18T20:42:52.848565Z",
     "iopub.status.busy": "2025-04-18T20:42:52.848241Z",
     "iopub.status.idle": "2025-04-18T20:44:13.524736Z",
     "shell.execute_reply": "2025-04-18T20:44:13.518330Z",
     "shell.execute_reply.started": "2025-04-18T20:42:52.848535Z"
    },
    "trusted": true
   },
   "outputs": [],
   "source": [
    "!pip install ktrain==0.41.4 tensorflow==2.15.0 tf_keras==2.15.1"
   ]
  },
  {
   "cell_type": "code",
   "execution_count": null,
   "metadata": {
    "execution": {
     "iopub.execute_input": "2025-04-18T20:44:13.525918Z",
     "iopub.status.busy": "2025-04-18T20:44:13.525701Z",
     "iopub.status.idle": "2025-04-18T20:45:03.442567Z",
     "shell.execute_reply": "2025-04-18T20:45:03.436768Z",
     "shell.execute_reply.started": "2025-04-18T20:44:13.525892Z"
    },
    "trusted": true
   },
   "outputs": [],
   "source": [
    "# Importing necessary packages\n",
    "import os\n",
    "os.environ[\"TF_USE_LEGACY_KERAS\"] = '1'\n",
    "\n",
    "try:\n",
    "  import ktrain\n",
    "except:\n",
    "  !pip install ktrain\n",
    "  #os.kill(os.getpid(), 9)\n",
    "    \n",
    "import ktrain\n",
    "import pandas as pd\n",
    "import numpy as np\n",
    "import requests"
   ]
  },
  {
   "cell_type": "code",
   "execution_count": 4,
   "metadata": {
    "execution": {
     "iopub.execute_input": "2025-04-18T20:45:03.445217Z",
     "iopub.status.busy": "2025-04-18T20:45:03.444755Z",
     "iopub.status.idle": "2025-04-18T20:45:03.455289Z",
     "shell.execute_reply": "2025-04-18T20:45:03.449453Z",
     "shell.execute_reply.started": "2025-04-18T20:45:03.445190Z"
    },
    "trusted": true
   },
   "outputs": [],
   "source": [
    "# Loading from ktrain\n",
    "from ktrain import text\n",
    "from ktrain.text import texts_from_df"
   ]
  },
  {
   "cell_type": "code",
   "execution_count": 5,
   "metadata": {
    "execution": {
     "iopub.execute_input": "2025-04-18T20:45:03.457350Z",
     "iopub.status.busy": "2025-04-18T20:45:03.457111Z",
     "iopub.status.idle": "2025-04-18T20:45:03.476758Z",
     "shell.execute_reply": "2025-04-18T20:45:03.471868Z",
     "shell.execute_reply.started": "2025-04-18T20:45:03.457326Z"
    },
    "trusted": true
   },
   "outputs": [
    {
     "name": "stdout",
     "output_type": "stream",
     "text": [
      "0.41.4\n"
     ]
    }
   ],
   "source": [
    "print(ktrain.__version__)"
   ]
  },
  {
   "cell_type": "markdown",
   "metadata": {},
   "source": [
    "### Load Data\n"
   ]
  },
  {
   "cell_type": "code",
   "execution_count": null,
   "metadata": {
    "execution": {
     "iopub.execute_input": "2025-04-18T20:45:03.479108Z",
     "iopub.status.busy": "2025-04-18T20:45:03.478858Z",
     "iopub.status.idle": "2025-04-18T20:45:05.281462Z",
     "shell.execute_reply": "2025-04-18T20:45:05.275856Z",
     "shell.execute_reply.started": "2025-04-18T20:45:03.479083Z"
    },
    "trusted": true
   },
   "outputs": [
    {
     "name": "stdout",
     "output_type": "stream",
     "text": [
      "Data loaded. Shape: (200853, 6)\n",
      "Data Info: <bound method DataFrame.info of              category                                           headline  \\\n",
      "0               CRIME  There Were 2 Mass Shootings In Texas Last Week...   \n",
      "1       ENTERTAINMENT  Will Smith Joins Diplo And Nicky Jam For The 2...   \n",
      "2       ENTERTAINMENT    Hugh Grant Marries For The First Time At Age 57   \n",
      "3       ENTERTAINMENT  Jim Carrey Blasts 'Castrato' Adam Schiff And D...   \n",
      "4       ENTERTAINMENT  Julianna Margulies Uses Donald Trump Poop Bags...   \n",
      "...               ...                                                ...   \n",
      "200848           TECH  RIM CEO Thorsten Heins' 'Significant' Plans Fo...   \n",
      "200849         SPORTS  Maria Sharapova Stunned By Victoria Azarenka I...   \n",
      "200850         SPORTS  Giants Over Patriots, Jets Over Colts Among  M...   \n",
      "200851         SPORTS  Aldon Smith Arrested: 49ers Linebacker Busted ...   \n",
      "200852         SPORTS  Dwight Howard Rips Teammates After Magic Loss ...   \n",
      "\n",
      "                 authors                                               link  \\\n",
      "0        Melissa Jeltsen  https://www.huffingtonpost.com/entry/texas-ama...   \n",
      "1          Andy McDonald  https://www.huffingtonpost.com/entry/will-smit...   \n",
      "2             Ron Dicker  https://www.huffingtonpost.com/entry/hugh-gran...   \n",
      "3             Ron Dicker  https://www.huffingtonpost.com/entry/jim-carre...   \n",
      "4             Ron Dicker  https://www.huffingtonpost.com/entry/julianna-...   \n",
      "...                  ...                                                ...   \n",
      "200848  Reuters, Reuters  https://www.huffingtonpost.com/entry/rim-ceo-t...   \n",
      "200849               NaN  https://www.huffingtonpost.com/entry/maria-sha...   \n",
      "200850               NaN  https://www.huffingtonpost.com/entry/super-bow...   \n",
      "200851               NaN  https://www.huffingtonpost.com/entry/aldon-smi...   \n",
      "200852               NaN  https://www.huffingtonpost.com/entry/dwight-ho...   \n",
      "\n",
      "                                        short_description        date  \n",
      "0       She left her husband. He killed their children...  2018-05-26  \n",
      "1                                Of course it has a song.  2018-05-26  \n",
      "2       The actor and his longtime girlfriend Anna Ebe...  2018-05-26  \n",
      "3       The actor gives Dems an ass-kicking for not fi...  2018-05-26  \n",
      "4       The \"Dietland\" actress said using the bags is ...  2018-05-26  \n",
      "...                                                   ...         ...  \n",
      "200848  Verizon Wireless and AT&T are already promotin...  2012-01-28  \n",
      "200849  Afterward, Azarenka, more effusive with the pr...  2012-01-28  \n",
      "200850  Leading up to Super Bowl XLVI, the most talked...  2012-01-28  \n",
      "200851  CORRECTION: An earlier version of this story i...  2012-01-28  \n",
      "200852  The five-time all-star center tore into his te...  2012-01-28  \n",
      "\n",
      "[200853 rows x 6 columns]>\n"
     ]
    }
   ],
   "source": [
    "# Load data\n",
    "data = pd.read_csv(\n",
    "    \"/kaggle/input/news-category-training-data-csv/news_category_trainingdata.csv\"\n",
    ")\n",
    "print(\"Data loaded. Shape:\", data.shape)\n",
    "print(\"Data Info:\", data.info)"
   ]
  },
  {
   "cell_type": "markdown",
   "metadata": {},
   "source": [
    "# Creating Combined Feature\n",
    "\n",
    "Here we want to create a new feature that adds the headline and the short_description together because ktrain works with only one text feature as input for text classification.\n"
   ]
  },
  {
   "cell_type": "code",
   "execution_count": null,
   "metadata": {
    "execution": {
     "iopub.execute_input": "2025-04-18T20:45:05.283219Z",
     "iopub.status.busy": "2025-04-18T20:45:05.282201Z",
     "iopub.status.idle": "2025-04-18T20:45:05.459182Z",
     "shell.execute_reply": "2025-04-18T20:45:05.454061Z",
     "shell.execute_reply.started": "2025-04-18T20:45:05.283185Z"
    },
    "trusted": true
   },
   "outputs": [
    {
     "name": "stdout",
     "output_type": "stream",
     "text": [
      "Features created. First few rows:\n",
      "                                             feature       category\n",
      "0  There Were 2 Mass Shootings In Texas Last Week...          CRIME\n",
      "1  Will Smith Joins Diplo And Nicky Jam For The 2...  ENTERTAINMENT\n",
      "2  Hugh Grant Marries For The First Time At Age 5...  ENTERTAINMENT\n",
      "3  Jim Carrey Blasts 'Castrato' Adam Schiff And D...  ENTERTAINMENT\n",
      "4  Julianna Margulies Uses Donald Trump Poop Bags...  ENTERTAINMENT\n"
     ]
    }
   ],
   "source": [
    "# Feature engineering\n",
    "data[\"feature\"] = data[\"headline\"] + \" \" + data[\"short_description\"]\n",
    "print(\"Features created. First few rows:\")\n",
    "print(data[[\"feature\", \"category\"]].head())"
   ]
  },
  {
   "cell_type": "markdown",
   "metadata": {},
   "source": [
    "# Creating Variables\n",
    "\n",
    "Here i set a new column `health` and use numpy to look for whether the category of an entry is equal to `WELLNESS` or `HEALTHY LIVING` and assigning in the new `health` column a 1 or a 0 if it is anything other than those two.\n"
   ]
  },
  {
   "cell_type": "code",
   "execution_count": null,
   "metadata": {
    "execution": {
     "iopub.execute_input": "2025-04-18T20:45:05.461792Z",
     "iopub.status.busy": "2025-04-18T20:45:05.461547Z",
     "iopub.status.idle": "2025-04-18T20:45:05.503722Z",
     "shell.execute_reply": "2025-04-18T20:45:05.500113Z",
     "shell.execute_reply.started": "2025-04-18T20:45:05.461767Z"
    },
    "trusted": true
   },
   "outputs": [
    {
     "name": "stdout",
     "output_type": "stream",
     "text": [
      "Health label stats:\n",
      " count    200853.000000\n",
      "mean          0.122084\n",
      "std           0.327384\n",
      "min           0.000000\n",
      "25%           0.000000\n",
      "50%           0.000000\n",
      "75%           0.000000\n",
      "max           1.000000\n",
      "Name: health, dtype: float64\n"
     ]
    }
   ],
   "source": [
    "# Creating Variables\n",
    "data[\"health\"] = np.where(\n",
    "    (data[\"category\"] == \"WELLNESS\") | (data[\"category\"] == \"HEALTHY LIVING\"), 1, 0\n",
    ")\n",
    "print(\"Health label stats:\\n\", data[\"health\"].describe())"
   ]
  },
  {
   "cell_type": "markdown",
   "metadata": {},
   "source": [
    "### Balancing The Sample Data\n",
    "\n",
    "I have less healthy entries than i have not healthy. So to help make sure the model is equally balanced and not overtrained for one side i limit the samples given to the model to train on.\n"
   ]
  },
  {
   "cell_type": "code",
   "execution_count": null,
   "metadata": {
    "execution": {
     "iopub.execute_input": "2025-04-18T20:45:05.507931Z",
     "iopub.status.busy": "2025-04-18T20:45:05.507694Z",
     "iopub.status.idle": "2025-04-18T20:45:05.580897Z",
     "shell.execute_reply": "2025-04-18T20:45:05.575002Z",
     "shell.execute_reply.started": "2025-04-18T20:45:05.507907Z"
    },
    "trusted": true
   },
   "outputs": [
    {
     "name": "stdout",
     "output_type": "stream",
     "text": [
      "Sample size: 24521\n",
      "Balanced dataset stats:\n",
      "              health\n",
      "count  49042.000000\n",
      "mean       0.500000\n",
      "std        0.500005\n",
      "min        0.000000\n",
      "25%        0.000000\n",
      "50%        0.500000\n",
      "75%        1.000000\n",
      "max        1.000000\n"
     ]
    }
   ],
   "source": [
    "# Balancing\n",
    "sample_amt = int(data[\"health\"].sum())\n",
    "print(\"Sample size:\", sample_amt)\n",
    "wellness = data[data[\"health\"] == 1]\n",
    "not_wellness = data[data[\"health\"] == 0].sample(n=sample_amt, random_state=42)\n",
    "data_sample = pd.concat([wellness, not_wellness])\n",
    "print(\"Balanced dataset stats:\\n\", data_sample.describe())"
   ]
  },
  {
   "cell_type": "markdown",
   "metadata": {},
   "source": [
    "### The Model\n"
   ]
  },
  {
   "cell_type": "code",
   "execution_count": null,
   "metadata": {
    "execution": {
     "iopub.execute_input": "2025-04-18T20:45:05.583300Z",
     "iopub.status.busy": "2025-04-18T20:45:05.583056Z",
     "iopub.status.idle": "2025-04-18T20:45:29.055480Z",
     "shell.execute_reply": "2025-04-18T20:45:29.050067Z",
     "shell.execute_reply.started": "2025-04-18T20:45:05.583263Z"
    },
    "trusted": true
   },
   "outputs": [
    {
     "name": "stdout",
     "output_type": "stream",
     "text": [
      "['not_health', 'health']\n",
      "        not_health  health\n",
      "192960         0.0     1.0\n",
      "175454         1.0     0.0\n",
      "21974          0.0     1.0\n",
      "100456         1.0     0.0\n",
      "169620         0.0     1.0\n",
      "['not_health', 'health']\n",
      "        not_health  health\n",
      "98556          0.0     1.0\n",
      "147299         1.0     0.0\n",
      "149342         0.0     1.0\n",
      "24535          0.0     1.0\n",
      "19328          1.0     0.0\n"
     ]
    },
    {
     "name": "stderr",
     "output_type": "stream",
     "text": [
      "Xet Storage is enabled for this repo, but the 'hf_xet' package is not installed. Falling back to regular HTTP download. For better performance, install the package with: `pip install huggingface_hub[hf_xet]` or `pip install hf_xet`\n",
      "WARNING:huggingface_hub.file_download:Xet Storage is enabled for this repo, but the 'hf_xet' package is not installed. Falling back to regular HTTP download. For better performance, install the package with: `pip install huggingface_hub[hf_xet]` or `pip install hf_xet`\n"
     ]
    },
    {
     "name": "stdout",
     "output_type": "stream",
     "text": [
      "preprocessing train...\n",
      "language: en\n",
      "train sequence lengths:\n",
      "\tmean : 32\n",
      "\t95percentile : 58\n",
      "\t99percentile : 68\n"
     ]
    },
    {
     "data": {
      "text/html": [
       "\n",
       "<style>\n",
       "    /* Turns off some styling */\n",
       "    progress {\n",
       "        /* gets rid of default border in Firefox and Opera. */\n",
       "        border: none;\n",
       "        /* Needs to be in here for Safari polyfill so background images work as expected. */\n",
       "        background-size: auto;\n",
       "    }\n",
       "    progress:not([value]), progress:not([value])::-webkit-progress-bar {\n",
       "        background: repeating-linear-gradient(45deg, #7e7e7e, #7e7e7e 10px, #5c5c5c 10px, #5c5c5c 20px);\n",
       "    }\n",
       "    .progress-bar-interrupted, .progress-bar-interrupted::-webkit-progress-bar {\n",
       "        background: #F44336;\n",
       "    }\n",
       "</style>\n"
      ],
      "text/plain": [
       "<IPython.core.display.HTML object>"
      ]
     },
     "metadata": {},
     "output_type": "display_data"
    },
    {
     "data": {
      "text/html": [],
      "text/plain": [
       "<IPython.core.display.HTML object>"
      ]
     },
     "metadata": {},
     "output_type": "display_data"
    },
    {
     "name": "stdout",
     "output_type": "stream",
     "text": [
      "Is Multi-Label? False\n",
      "preprocessing test...\n",
      "language: en\n",
      "test sequence lengths:\n",
      "\tmean : 31\n",
      "\t95percentile : 58\n",
      "\t99percentile : 67\n"
     ]
    },
    {
     "data": {
      "text/html": [
       "\n",
       "<style>\n",
       "    /* Turns off some styling */\n",
       "    progress {\n",
       "        /* gets rid of default border in Firefox and Opera. */\n",
       "        border: none;\n",
       "        /* Needs to be in here for Safari polyfill so background images work as expected. */\n",
       "        background-size: auto;\n",
       "    }\n",
       "    progress:not([value]), progress:not([value])::-webkit-progress-bar {\n",
       "        background: repeating-linear-gradient(45deg, #7e7e7e, #7e7e7e 10px, #5c5c5c 10px, #5c5c5c 20px);\n",
       "    }\n",
       "    .progress-bar-interrupted, .progress-bar-interrupted::-webkit-progress-bar {\n",
       "        background: #F44336;\n",
       "    }\n",
       "</style>\n"
      ],
      "text/plain": [
       "<IPython.core.display.HTML object>"
      ]
     },
     "metadata": {},
     "output_type": "display_data"
    },
    {
     "data": {
      "text/html": [],
      "text/plain": [
       "<IPython.core.display.HTML object>"
      ]
     },
     "metadata": {},
     "output_type": "display_data"
    },
    {
     "name": "stdout",
     "output_type": "stream",
     "text": [
      "Data preprocessed successfully\n"
     ]
    }
   ],
   "source": [
    "# Preprocess with ktrain\n",
    "target_names = [\"NOT HEALTH\", \"HEALTH\"]\n",
    "train, val, preprocess = text.texts_from_df(\n",
    "    data_sample,\n",
    "    text_column=\"feature\",\n",
    "    label_columns=[\"health\"],\n",
    "    val_df=None,\n",
    "    max_features=20000,\n",
    "    maxlen=128,\n",
    "    val_pct=0.1,\n",
    "    ngram_range=1,\n",
    "    preprocess_mode=\"distilbert\",\n",
    "    verbose=1,\n",
    ")\n",
    "print(\"Data preprocessed successfully\")"
   ]
  },
  {
   "cell_type": "code",
   "execution_count": 11,
   "metadata": {
    "execution": {
     "iopub.execute_input": "2025-04-18T20:45:29.057523Z",
     "iopub.status.busy": "2025-04-18T20:45:29.057237Z",
     "iopub.status.idle": "2025-04-18T20:45:30.265447Z",
     "shell.execute_reply": "2025-04-18T20:45:30.260848Z",
     "shell.execute_reply.started": "2025-04-18T20:45:29.057497Z"
    },
    "trusted": true
   },
   "outputs": [],
   "source": [
    "# Define the model\n",
    "model = preprocess.get_classifier()\n",
    "learner = ktrain.get_learner(model, train_data=train, val_data=val, batch_size=32)"
   ]
  },
  {
   "cell_type": "markdown",
   "metadata": {},
   "source": [
    "### Finding the learing rate\n",
    "\n",
    "Here was were i ran into my first bottle neck where i tried to use 3 Epochs to find a good learning rate but in order to not time out the Kaggle TPU i dropped it down to 2 and you can see the Epoch training outputs below.\n"
   ]
  },
  {
   "cell_type": "code",
   "execution_count": null,
   "metadata": {
    "execution": {
     "iopub.execute_input": "2025-04-18T20:45:30.268172Z",
     "iopub.status.busy": "2025-04-18T20:45:30.267922Z",
     "iopub.status.idle": "2025-04-18T21:43:36.671475Z",
     "shell.execute_reply": "2025-04-18T21:43:36.666236Z",
     "shell.execute_reply.started": "2025-04-18T20:45:30.268147Z"
    },
    "trusted": true
   },
   "outputs": [
    {
     "name": "stdout",
     "output_type": "stream",
     "text": [
      "Finding optimal learning rate...\n",
      "simulating training for different learning rates... this may take a few moments...\n",
      "Epoch 1/2\n",
      "1379/1379 [==============================] - 2474s 2s/step - loss: 0.4765 - accuracy: 0.7461\n",
      "Epoch 2/2\n",
      "1379/1379 [==============================] - 1010s 732ms/step - loss: 14.9076 - accuracy: 0.4940\n",
      "\n",
      "\n",
      "done.\n",
      "Please invoke the Learner.lr_plot() method to visually inspect the loss plot to help identify the maximal learning rate associated with falling loss.\n"
     ]
    },
    {
     "data": {
      "image/png": "[encoded data removed]",
      "text/plain": [
       "<Figure size 640x480 with 1 Axes>"
      ]
     },
     "metadata": {},
     "output_type": "display_data"
    }
   ],
   "source": [
    "# Finding the learning rate\n",
    "print(\"Finding optimal learning rate...\")\n",
    "learner.lr_find(max_epochs=2)\n",
    "learner.lr_plot()"
   ]
  },
  {
   "cell_type": "markdown",
   "metadata": {},
   "source": [
    "### Training the Model\n",
    "\n",
    "Here is the last part of training the actual model itself and i was only able to use 1 epoch for this to make sure i didnt get interrupted.\n"
   ]
  },
  {
   "cell_type": "code",
   "execution_count": null,
   "metadata": {
    "execution": {
     "iopub.execute_input": "2025-04-18T21:43:36.673773Z",
     "iopub.status.busy": "2025-04-18T21:43:36.673547Z",
     "iopub.status.idle": "2025-04-18T22:24:52.858598Z",
     "shell.execute_reply": "2025-04-18T22:24:52.851835Z",
     "shell.execute_reply.started": "2025-04-18T21:43:36.673749Z"
    },
    "trusted": true
   },
   "outputs": [
    {
     "name": "stdout",
     "output_type": "stream",
     "text": [
      "\n",
      "\n",
      "begin training using triangular learning rate policy with max lr of 0.0001...\n",
      "1380/1380 [==============================] - 2476s 2s/step - loss: 0.2788 - accuracy: 0.8813 - val_loss: 0.2258 - val_accuracy: 0.9009\n",
      "Weights from best epoch have been loaded into model.\n"
     ]
    },
    {
     "data": {
      "text/plain": [
       "<tf_keras.src.callbacks.History at 0x7b35c7ee1cc0>"
      ]
     },
     "execution_count": 13,
     "metadata": {},
     "output_type": "execute_result"
    }
   ],
   "source": [
    "# Train the model\n",
    "learner.autofit(\n",
    "    lr=1e-4,\n",
    "    checkpoint_folder=\"/checkpoint\",\n",
    "    epochs=1,  # Reduced so to not get timedout by Kaggle\n",
    "    early_stopping=True,\n",
    ")"
   ]
  },
  {
   "cell_type": "code",
   "execution_count": null,
   "metadata": {
    "execution": {
     "iopub.execute_input": "2025-04-18T22:24:52.860900Z",
     "iopub.status.busy": "2025-04-18T22:24:52.860616Z",
     "iopub.status.idle": "2025-04-18T22:24:53.430612Z",
     "shell.execute_reply": "2025-04-18T22:24:53.425106Z",
     "shell.execute_reply.started": "2025-04-18T22:24:52.860871Z"
    },
    "trusted": true
   },
   "outputs": [],
   "source": [
    "# Save predictor\n",
    "predictor = ktrain.get_predictor(learner.model, preprocess)\n",
    "predictor.save(\"wellness_predictor\")\n",
    "print(\"Model saved to /model/wellness_predictor\")"
   ]
  },
  {
   "cell_type": "markdown",
   "metadata": {},
   "source": [
    "### Validation\n",
    "\n",
    "Here shows the scores for how the model performes. With only limited Epochs it did quite well.\n"
   ]
  },
  {
   "cell_type": "code",
   "execution_count": 15,
   "metadata": {
    "execution": {
     "iopub.execute_input": "2025-04-18T22:24:53.431738Z",
     "iopub.status.busy": "2025-04-18T22:24:53.431498Z",
     "iopub.status.idle": "2025-04-18T22:26:16.405599Z",
     "shell.execute_reply": "2025-04-18T22:26:16.400388Z",
     "shell.execute_reply.started": "2025-04-18T22:24:53.431713Z"
    },
    "trusted": true
   },
   "outputs": [
    {
     "name": "stdout",
     "output_type": "stream",
     "text": [
      "154/154 [==============================] - 83s 511ms/step\n",
      "              precision    recall  f1-score   support\n",
      "\n",
      "  NOT HEALTH       0.90      0.90      0.90      2483\n",
      "      HEALTH       0.90      0.90      0.90      2422\n",
      "\n",
      "    accuracy                           0.90      4905\n",
      "   macro avg       0.90      0.90      0.90      4905\n",
      "weighted avg       0.90      0.90      0.90      4905\n",
      "\n",
      "Validation metrics:\n",
      " [[2245  238]\n",
      " [ 248 2174]]\n"
     ]
    }
   ],
   "source": [
    "# Validate model\n",
    "validation = learner.validate(val_data=val, class_names=target_names)\n",
    "print(\"Validation metrics:\\n\", validation)"
   ]
  },
  {
   "cell_type": "markdown",
   "metadata": {},
   "source": [
    "### Testing Predicitons\n",
    "\n",
    "Below are a few news articles and i run them through the model and print out the prediction for whether they are health based or not. The output is very good and with high 90% probabilty and low sub 1% probability can correctly identify the correct articles for whether they are Health/Wellness Focused.\n"
   ]
  },
  {
   "cell_type": "code",
   "execution_count": null,
   "metadata": {
    "execution": {
     "iopub.execute_input": "2025-04-18T22:26:16.408244Z",
     "iopub.status.busy": "2025-04-18T22:26:16.407992Z",
     "iopub.status.idle": "2025-04-18T22:26:24.280651Z",
     "shell.execute_reply": "2025-04-18T22:26:24.274827Z",
     "shell.execute_reply.started": "2025-04-18T22:26:16.408217Z"
    },
    "trusted": true
   },
   "outputs": [
    {
     "name": "stdout",
     "output_type": "stream",
     "text": [
      "---------------------------\n",
      "The probability this is healthy is 0.9939\n",
      "Stress May Be Your Heart’s Worst Enemy Psychological stress activates the fear center in the brain, setting into motion a cascade of reactions that can lead to heart attacks and strokes.\n",
      "---------------------------\n",
      "The probability this is healthy is 0.9404\n",
      "Exercising to Slim Down? Try Getting Bigger. It’s high time for women to reclaim the real strength behind exercise.\n",
      "---------------------------\n",
      "The probability this is healthy is 0.9216\n",
      "What Are Your Food Resolutions for the New Year? Join us for the Eat Well Challenge starting in January.\n",
      "---------------------------\n",
      "The probability this is healthy is 0.9558\n",
      "Why We All Need to Have More Fun. Prioritizing fun may feel impossible right now. But this four-step plan will help you rediscover how to feel more alive.\n",
      "---------------------------\n",
      "The probability this is healthy is 0.0041\n",
      "Cuomo Will Not Be Prosecuted in Groping Case, Albany D.A. Says. The district attorney described the woman who said former Gov. Andrew Cuomo had groped her as “credible,” but added that proving her allegation would be difficult.\n",
      "---------------------------\n",
      "The probability this is healthy is 0.0035\n",
      "A Film Captures Jewish Life in a Polish Town Before the Nazis Arrived. A documentary based on a home movie shot by an American in 1938 provides a look at the vibrancy of a Jewish community in Europe just before the Holocaust.\n"
     ]
    }
   ],
   "source": [
    "# Test predictions\n",
    "test_docs = [\n",
    "    \"Stress May Be Your Heart’s Worst Enemy Psychological stress activates the fear center in the brain, setting into motion a cascade of reactions that can lead to heart attacks and strokes.\",\n",
    "    \"Exercising to Slim Down? Try Getting Bigger. It’s high time for women to reclaim the real strength behind exercise.\",\n",
    "    \"What Are Your Food Resolutions for the New Year? Join us for the Eat Well Challenge starting in January.\",\n",
    "    \"Why We All Need to Have More Fun. Prioritizing fun may feel impossible right now. But this four-step plan will help you rediscover how to feel more alive.\",\n",
    "    \"Cuomo Will Not Be Prosecuted in Groping Case, Albany D.A. Says. The district attorney described the woman who said former Gov. Andrew Cuomo had groped her as “credible,” but added that proving her allegation would be difficult.\",\n",
    "    \"A Film Captures Jewish Life in a Polish Town Before the Nazis Arrived. A documentary based on a home movie shot by an American in 1938 provides a look at the vibrancy of a Jewish community in Europe just before the Holocaust.\",\n",
    "]\n",
    "\n",
    "for i, text in enumerate(test_docs):\n",
    "    probs = predictor.predict(text, return_proba=True)\n",
    "    print(\"---------------------------\")\n",
    "    print(f\"The probability this is healthy is {probs[1]:.4f}\")\n",
    "    print(text)"
   ]
  },
  {
   "cell_type": "code",
   "execution_count": null,
   "metadata": {
    "trusted": true
   },
   "outputs": [],
   "source": []
  }
 ],
 "metadata": {
  "kaggle": {
   "accelerator": "tpu1vmV38",
   "dataSources": [
    {
     "datasetId": 32526,
     "sourceId": 4243451,
     "sourceType": "datasetVersion"
    },
    {
     "datasetId": 7109231,
     "sourceId": 11359099,
     "sourceType": "datasetVersion"
    }
   ],
   "dockerImageVersionId": 31012,
   "isGpuEnabled": false,
   "isInternetEnabled": true,
   "language": "python",
   "sourceType": "notebook"
  },
  "kernelspec": {
   "display_name": "Python 3",
   "language": "python",
   "name": "python3"
  },
  "language_info": {
   "codemirror_mode": {
    "name": "ipython",
    "version": 3
   },
   "file_extension": ".py",
   "mimetype": "text/x-python",
   "name": "python",
   "nbconvert_exporter": "python",
   "pygments_lexer": "ipython3",
   "version": "3.10.16"
  }
 },
 "nbformat": 4,
 "nbformat_minor": 4
}
